{
 "cells": [
  {
   "cell_type": "code",
   "execution_count": 30,
   "metadata": {},
   "outputs": [],
   "source": [
    "import torch\n",
    "import torch.nn as nn\n",
    "import torch.nn.functional as F\n",
    "from torch.utils.data import DataLoader\n",
    "from torchvision import datasets, transforms\n",
    "import matplotlib.pyplot as plt"
   ]
  },
  {
   "cell_type": "code",
   "execution_count": 31,
   "metadata": {},
   "outputs": [],
   "source": [
    "train_dataset = datasets.FashionMNIST(root='/dataset', train=True, transform=transforms.ToTensor(), download=True)"
   ]
  },
  {
   "cell_type": "code",
   "execution_count": 32,
   "metadata": {},
   "outputs": [],
   "source": [
    "test_dataset = datasets.FashionMNIST(root='/dataset', train=False, transform=transforms.ToTensor())"
   ]
  },
  {
   "cell_type": "code",
   "execution_count": 33,
   "metadata": {},
   "outputs": [
    {
     "data": {
      "text/plain": [
       "Dataset FashionMNIST\n",
       "    Number of datapoints: 60000\n",
       "    Root location: /dataset\n",
       "    Split: Train\n",
       "    StandardTransform\n",
       "Transform: ToTensor()"
      ]
     },
     "execution_count": 33,
     "metadata": {},
     "output_type": "execute_result"
    }
   ],
   "source": [
    "train_dataset"
   ]
  },
  {
   "cell_type": "code",
   "execution_count": 34,
   "metadata": {},
   "outputs": [
    {
     "data": {
      "text/plain": [
       "Dataset FashionMNIST\n",
       "    Number of datapoints: 10000\n",
       "    Root location: /dataset\n",
       "    Split: Test\n",
       "    StandardTransform\n",
       "Transform: ToTensor()"
      ]
     },
     "execution_count": 34,
     "metadata": {},
     "output_type": "execute_result"
    }
   ],
   "source": [
    "test_dataset"
   ]
  },
  {
   "cell_type": "code",
   "execution_count": 35,
   "metadata": {},
   "outputs": [
    {
     "data": {
      "text/plain": [
       "60000"
      ]
     },
     "execution_count": 35,
     "metadata": {},
     "output_type": "execute_result"
    }
   ],
   "source": [
    "len(train_dataset)"
   ]
  },
  {
   "cell_type": "code",
   "execution_count": 36,
   "metadata": {},
   "outputs": [],
   "source": [
    "batch_size = 64"
   ]
  },
  {
   "cell_type": "code",
   "execution_count": 37,
   "metadata": {},
   "outputs": [],
   "source": [
    "train_loader = DataLoader(train_dataset, batch_size=batch_size, shuffle=True)\n",
    "test_loader = DataLoader(test_dataset, batch_size=batch_size, shuffle=False)"
   ]
  },
  {
   "cell_type": "code",
   "execution_count": 38,
   "metadata": {},
   "outputs": [
    {
     "data": {
      "text/plain": [
       "938"
      ]
     },
     "execution_count": 38,
     "metadata": {},
     "output_type": "execute_result"
    }
   ],
   "source": [
    "len(list(train_loader))"
   ]
  },
  {
   "cell_type": "code",
   "execution_count": 39,
   "metadata": {},
   "outputs": [
    {
     "data": {
      "text/plain": [
       "157"
      ]
     },
     "execution_count": 39,
     "metadata": {},
     "output_type": "execute_result"
    }
   ],
   "source": [
    "len(list(test_loader))"
   ]
  },
  {
   "cell_type": "code",
   "execution_count": 40,
   "metadata": {},
   "outputs": [],
   "source": [
    "class LogisticRegression(nn.Module):\n",
    "    def __init__(self, in_dim, n_class):\n",
    "        super().__init__()\n",
    "        self.linear = nn.Linear(in_dim, n_class)\n",
    "\n",
    "    def forward(self, x):\n",
    "        out = self.linear(x)\n",
    "        return out"
   ]
  },
  {
   "cell_type": "code",
   "execution_count": 41,
   "metadata": {},
   "outputs": [],
   "source": [
    "model = LogisticRegression(28*28, 10)\n"
   ]
  },
  {
   "cell_type": "code",
   "execution_count": 42,
   "metadata": {},
   "outputs": [
    {
     "data": {
      "text/plain": [
       "LogisticRegression(\n",
       "  (linear): Linear(in_features=784, out_features=10, bias=True)\n",
       ")"
      ]
     },
     "execution_count": 42,
     "metadata": {},
     "output_type": "execute_result"
    }
   ],
   "source": [
    "model"
   ]
  },
  {
   "cell_type": "code",
   "execution_count": 43,
   "metadata": {},
   "outputs": [],
   "source": [
    "device = 'cuda' if torch.cuda.is_available() else 'cpu'"
   ]
  },
  {
   "cell_type": "code",
   "execution_count": 44,
   "metadata": {},
   "outputs": [
    {
     "data": {
      "text/plain": [
       "'cuda'"
      ]
     },
     "execution_count": 44,
     "metadata": {},
     "output_type": "execute_result"
    }
   ],
   "source": [
    "device"
   ]
  },
  {
   "cell_type": "code",
   "execution_count": 45,
   "metadata": {},
   "outputs": [],
   "source": [
    "model = model.to(device)"
   ]
  },
  {
   "cell_type": "code",
   "execution_count": 46,
   "metadata": {},
   "outputs": [],
   "source": [
    "learning_rate = 1e-3"
   ]
  },
  {
   "cell_type": "code",
   "execution_count": 47,
   "metadata": {},
   "outputs": [],
   "source": [
    "criterion = nn.CrossEntropyLoss()\n",
    "optimizer = torch.optim.SGD(model.parameters(), lr=learning_rate)"
   ]
  },
  {
   "cell_type": "code",
   "execution_count": 48,
   "metadata": {},
   "outputs": [],
   "source": [
    "num_epochs = 10"
   ]
  },
  {
   "cell_type": "code",
   "execution_count": 49,
   "metadata": {},
   "outputs": [
    {
     "name": "stdout",
     "output_type": "stream",
     "text": [
      "**********\n",
      "epoch 1\n",
      "[1/10] loss: 2.036225,acc: 0.406458\n",
      "[1/10] loss: 1.852183,acc: 0.508906\n",
      "[1/10] loss: 1.717267,acc: 0.554479\n",
      "Finish 1 epoch ,loss: 1.702494,acc: 0.558785\n",
      "**********\n",
      "epoch 2\n",
      "[2/10] loss: 1.290826,acc: 0.660365\n",
      "[2/10] loss: 1.244469,acc: 0.663568\n",
      "[2/10] loss: 1.205008,acc: 0.666215\n",
      "Finish 2 epoch ,loss: 1.200914,acc: 0.666411\n",
      "**********\n",
      "epoch 3\n",
      "[3/10] loss: 1.068237,acc: 0.681198\n",
      "[3/10] loss: 1.047214,acc: 0.682578\n",
      "[3/10] loss: 1.026875,acc: 0.687899\n",
      "Finish 3 epoch ,loss: 1.024818,acc: 0.688433\n",
      "**********\n",
      "epoch 4\n",
      "[4/10] loss: 0.963365,acc: 0.700365\n",
      "[4/10] loss: 0.948863,acc: 0.703281\n",
      "[4/10] loss: 0.933869,acc: 0.709323\n",
      "Finish 4 epoch ,loss: 0.932277,acc: 0.709222\n",
      "**********\n",
      "epoch 5\n",
      "[5/10] loss: 0.886808,acc: 0.724688\n",
      "[5/10] loss: 0.882285,acc: 0.724818\n",
      "[5/10] loss: 0.873849,acc: 0.725903\n",
      "Finish 5 epoch ,loss: 0.872721,acc: 0.726079\n",
      "**********\n",
      "epoch 6\n",
      "[6/10] loss: 0.840216,acc: 0.737135\n",
      "[6/10] loss: 0.836971,acc: 0.737682\n",
      "[6/10] loss: 0.831697,acc: 0.739392\n",
      "Finish 6 epoch ,loss: 0.830232,acc: 0.739972\n",
      "**********\n",
      "epoch 7\n",
      "[7/10] loss: 0.812263,acc: 0.743073\n",
      "[7/10] loss: 0.801867,acc: 0.746484\n",
      "[7/10] loss: 0.797975,acc: 0.748802\n",
      "Finish 7 epoch ,loss: 0.797600,acc: 0.748784\n",
      "**********\n",
      "epoch 8\n",
      "[8/10] loss: 0.781647,acc: 0.753177\n",
      "[8/10] loss: 0.775964,acc: 0.754818\n",
      "[8/10] loss: 0.770617,acc: 0.757344\n",
      "Finish 8 epoch ,loss: 0.771637,acc: 0.757080\n",
      "**********\n",
      "epoch 9\n",
      "[9/10] loss: 0.751421,acc: 0.763073\n",
      "[9/10] loss: 0.750596,acc: 0.763516\n",
      "[9/10] loss: 0.749757,acc: 0.764236\n",
      "Finish 9 epoch ,loss: 0.749985,acc: 0.763909\n",
      "**********\n",
      "epoch 10\n",
      "[10/10] loss: 0.735980,acc: 0.768281\n",
      "[10/10] loss: 0.731446,acc: 0.769323\n",
      "[10/10] loss: 0.731472,acc: 0.769688\n",
      "Finish 10 epoch ,loss: 0.731505,acc: 0.769773\n"
     ]
    }
   ],
   "source": [
    "for epoch in range(num_epochs):\n",
    "    print('*' * 10)\n",
    "    print(f'epoch {epoch + 1}')\n",
    "    running_loss = 0\n",
    "    running_acc = 0.0\n",
    "    model.train()\n",
    "    for i, data in enumerate(train_loader, 1):\n",
    "        img, label = data\n",
    "        img = img.view(img.size(0), -1)\n",
    "        img = img.to(device)\n",
    "        label = label.to(device)\n",
    "        out = model(img)\n",
    "        loss = criterion(out, label)\n",
    "        running_loss += loss.item()\n",
    "        _, pred = torch.max(out, 1)\n",
    "        running_acc += (pred == label).float().mean()\n",
    "        optimizer.zero_grad()\n",
    "        loss.backward()\n",
    "        optimizer.step()\n",
    "        if i % 300 == 0:\n",
    "            print(f'[{epoch+1}/{num_epochs}] loss: {running_loss/i:.6f},acc: {running_acc/i:.6f}')\n",
    "    print(f'Finish {epoch+1} epoch ,loss: {running_loss/i:.6f},acc: {running_acc/i:.6f}')\n",
    "        "
   ]
  },
  {
   "cell_type": "code",
   "execution_count": 51,
   "metadata": {},
   "outputs": [
    {
     "name": "stdout",
     "output_type": "stream",
     "text": [
      "Test Loss: 0.739228, Acc: 0.758360\n"
     ]
    }
   ],
   "source": [
    "model.eval()\n",
    "eval_loss = 0\n",
    "eval_acc = 0\n",
    "for data in test_loader:\n",
    "    img, label = data\n",
    "    img = img.view(img.size(0), -1)\n",
    "    img = img.to(device)\n",
    "    label = label.to(device)\n",
    "    with torch.no_grad():\n",
    "        out = model(img)\n",
    "        loss = criterion(out, label)\n",
    "        eval_loss += loss.item()\n",
    "        _, pred = torch.max(out, 1)\n",
    "        eval_acc += (pred == label).float().mean()\n",
    "print(f'Test Loss: {eval_loss/len(test_loader):.6f}, Acc: {eval_acc/len(test_loader):.6f}')"
   ]
  },
  {
   "cell_type": "code",
   "execution_count": 53,
   "metadata": {},
   "outputs": [
    {
     "data": {
      "image/png": "[encoded data removed]",
      "text/plain": [
       "<Figure size 1500x300 with 5 Axes>"
      ]
     },
     "metadata": {},
     "output_type": "display_data"
    }
   ],
   "source": [
    "images, labels = next(iter(test_loader))\n",
    "images = images.reshape(-1, 28*28).to(device)\n",
    "labels = labels.to(device)\n",
    "outputs = model(images)\n",
    "_, predicted = torch.max(outputs, 1)\n",
    "fig, ax = plt.subplots(1,5, figsize=(15,3))\n",
    "for i in range(5):\n",
    "    ax[i].imshow(images[i].reshape(28,28).cpu(),cmap='gray')\n",
    "    ax[i].set_title(f'True: {labels[i].item()},pred: {predicted[i].item()}')\n",
    "    ax[i].axis('off')\n",
    "plt.show()"
   ]
  },
  {
   "cell_type": "code",
   "execution_count": 54,
   "metadata": {},
   "outputs": [
    {
     "data": {
      "text/plain": [
       "OrderedDict([('linear.weight',\n",
       "              tensor([[ 0.0234,  0.0136, -0.0309,  ..., -0.0354, -0.0162,  0.0004],\n",
       "                      [ 0.0109,  0.0171, -0.0170,  ..., -0.0119, -0.0159, -0.0078],\n",
       "                      [ 0.0132, -0.0023,  0.0134,  ...,  0.0289, -0.0241,  0.0195],\n",
       "                      ...,\n",
       "                      [-0.0167,  0.0009,  0.0162,  ..., -0.0231, -0.0163,  0.0328],\n",
       "                      [ 0.0164,  0.0259, -0.0032,  ..., -0.0196,  0.0278, -0.0287],\n",
       "                      [-0.0261,  0.0011, -0.0277,  ...,  0.0140,  0.0281,  0.0004]],\n",
       "                     device='cuda:0')),\n",
       "             ('linear.bias',\n",
       "              tensor([-0.0051, -0.0209, -0.0670,  0.0216, -0.0890,  0.3292,  0.0392,  0.0371,\n",
       "                      -0.0880, -0.1335], device='cuda:0'))])"
      ]
     },
     "execution_count": 54,
     "metadata": {},
     "output_type": "execute_result"
    }
   ],
   "source": [
    "model.state_dict()"
   ]
  },
  {
   "cell_type": "code",
   "execution_count": 55,
   "metadata": {},
   "outputs": [],
   "source": [
    "torch.save(model.state_dict(), './LogisticRegression.pth')"
   ]
  }
 ],
 "metadata": {
  "kernelspec": {
   "display_name": "base",
   "language": "python",
   "name": "python3"
  },
  "language_info": {
   "codemirror_mode": {
    "name": "ipython",
    "version": 3
   },
   "file_extension": ".py",
   "mimetype": "text/x-python",
   "name": "python",
   "nbconvert_exporter": "python",
   "pygments_lexer": "ipython3",
   "version": "3.12.4"
  }
 },
 "nbformat": 4,
 "nbformat_minor": 2
}
